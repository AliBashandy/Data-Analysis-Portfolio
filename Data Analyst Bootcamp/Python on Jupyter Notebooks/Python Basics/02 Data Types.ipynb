{
 "cells": [
  {
   "cell_type": "markdown",
   "id": "6ba7161d-b1b5-47ed-9e57-87ab13d3bef1",
   "metadata": {},
   "source": [
    "# Data Types"
   ]
  },
  {
   "cell_type": "markdown",
   "id": "6ce61b34-a689-4bc3-ac0c-2c31cb6c571f",
   "metadata": {},
   "source": [
    "## Numeric Data types"
   ]
  },
  {
   "cell_type": "markdown",
   "id": "e730c60c-1df1-4403-b08d-806e1b86e745",
   "metadata": {},
   "source": [
    "### Integer"
   ]
  },
  {
   "cell_type": "code",
   "execution_count": 4,
   "id": "43cccfa7-2eee-4cae-829a-afbbc34d2e61",
   "metadata": {},
   "outputs": [
    {
     "data": {
      "text/plain": [
       "int"
      ]
     },
     "execution_count": 4,
     "metadata": {},
     "output_type": "execute_result"
    }
   ],
   "source": [
    "type(12)"
   ]
  },
  {
   "cell_type": "markdown",
   "id": "0f57a125-4ce7-4041-ba71-324961118349",
   "metadata": {},
   "source": [
    "### Float"
   ]
  },
  {
   "cell_type": "code",
   "execution_count": 9,
   "id": "8c17038f-9b07-42da-99ab-3885fa39c58c",
   "metadata": {},
   "outputs": [
    {
     "data": {
      "text/plain": [
       "float"
      ]
     },
     "execution_count": 9,
     "metadata": {},
     "output_type": "execute_result"
    }
   ],
   "source": [
    "type(12.1)"
   ]
  },
  {
   "cell_type": "markdown",
   "id": "f51f7f90-9aa7-434d-aed7-b6a6cf9110ee",
   "metadata": {},
   "source": [
    "### Complex"
   ]
  },
  {
   "cell_type": "code",
   "execution_count": 15,
   "id": "69c083f6-d9a3-4fd0-b2cd-b2801e186cc8",
   "metadata": {},
   "outputs": [
    {
     "data": {
      "text/plain": [
       "complex"
      ]
     },
     "execution_count": 15,
     "metadata": {},
     "output_type": "execute_result"
    }
   ],
   "source": [
    "type (3j)"
   ]
  },
  {
   "cell_type": "markdown",
   "id": "731fbd5b-8146-4abf-a484-a67ec6fd28f4",
   "metadata": {},
   "source": [
    "## Boolean"
   ]
  },
  {
   "cell_type": "code",
   "execution_count": 22,
   "id": "8e4a4c02-57c8-4a48-84fc-2a6d944e9db5",
   "metadata": {},
   "outputs": [
    {
     "data": {
      "text/plain": [
       "bool"
      ]
     },
     "execution_count": 22,
     "metadata": {},
     "output_type": "execute_result"
    }
   ],
   "source": [
    "type(True)\n",
    "type(False)\n",
    "type(1>5)\n"
   ]
  },
  {
   "cell_type": "markdown",
   "id": "339d1a6c-2a1a-4498-b6c3-d6227424459a",
   "metadata": {},
   "source": [
    "## Sequence types Data Types"
   ]
  },
  {
   "cell_type": "markdown",
   "id": "3ce92793-b3ac-49aa-a9b2-e809c291dc72",
   "metadata": {},
   "source": [
    "### Strings"
   ]
  },
  {
   "cell_type": "code",
   "execution_count": 26,
   "id": "12b0ecff-7c5f-4168-9259-c867d7551998",
   "metadata": {},
   "outputs": [
    {
     "data": {
      "text/plain": [
       "'Single Quote'"
      ]
     },
     "execution_count": 26,
     "metadata": {},
     "output_type": "execute_result"
    }
   ],
   "source": [
    "'Single Quote'"
   ]
  },
  {
   "cell_type": "code",
   "execution_count": 28,
   "id": "81aade1b-c76f-4ac3-b01f-da28abe5c68b",
   "metadata": {},
   "outputs": [
    {
     "data": {
      "text/plain": [
       "'Double Quote'"
      ]
     },
     "execution_count": 28,
     "metadata": {},
     "output_type": "execute_result"
    }
   ],
   "source": [
    "\"Double Quote\""
   ]
  },
  {
   "cell_type": "code",
   "execution_count": 34,
   "id": "643ec430-df59-45d2-8197-5efef7c15f92",
   "metadata": {},
   "outputs": [
    {
     "data": {
      "text/plain": [
       "'\\n Multi line is whatever \\n you can write between \\n triple quotes \\n'"
      ]
     },
     "execution_count": 34,
     "metadata": {},
     "output_type": "execute_result"
    }
   ],
   "source": [
    "\"\"\"\n",
    " Multi line is whatever \n",
    " you can write between \n",
    " triple quotes \n",
    "\"\"\""
   ]
  },
  {
   "cell_type": "code",
   "execution_count": 36,
   "id": "9c7e191a-7b11-4ab8-bcf5-00c87edb944e",
   "metadata": {},
   "outputs": [
    {
     "data": {
      "text/plain": [
       "\"I've an ice cream\""
      ]
     },
     "execution_count": 36,
     "metadata": {},
     "output_type": "execute_result"
    }
   ],
   "source": [
    "# Double quotes will overpower single quote in case like below\n",
    "\"I've an ice cream\""
   ]
  },
  {
   "cell_type": "code",
   "execution_count": 38,
   "id": "2a326a45-0569-4f3f-9870-1737086ab484",
   "metadata": {},
   "outputs": [
    {
     "data": {
      "text/plain": [
       "'\\n I\\'ve an \"ice cream\".\\n'"
      ]
     },
     "execution_count": 38,
     "metadata": {},
     "output_type": "execute_result"
    }
   ],
   "source": [
    "# Multi line will over power single and double quotes\n",
    "\"\"\"\n",
    " I've an \"ice cream\".\n",
    "\"\"\""
   ]
  },
  {
   "cell_type": "markdown",
   "id": "01f57a86-6f8c-4120-940d-a05c5a26d054",
   "metadata": {},
   "source": [
    "#### Indexing a variable"
   ]
  },
  {
   "cell_type": "code",
   "execution_count": 55,
   "id": "3c0b343c-4a7b-43da-8dc0-2719fb12e687",
   "metadata": {},
   "outputs": [
    {
     "name": "stdout",
     "output_type": "stream",
     "text": [
      "Hello\n",
      "o\n",
      "W\n",
      "Hello World!Hello World!\n",
      "Hello World!Hello World!Hello World!\n"
     ]
    }
   ],
   "source": [
    "a = 'Hello World!'\n",
    "\n",
    "print (a[0:5])\n",
    "\n",
    "print (a[4])\n",
    "\n",
    "print (a[-6])\n",
    "\n",
    "print (a+a)\n",
    "\n",
    "print (a*3)"
   ]
  },
  {
   "cell_type": "markdown",
   "id": "edb4ea33-95c1-4e19-9598-8ba34717af4a",
   "metadata": {},
   "source": [
    "### Lists"
   ]
  },
  {
   "cell_type": "code",
   "execution_count": 58,
   "id": "3c28837c-9cee-4837-a1ae-8380ffb36b7d",
   "metadata": {},
   "outputs": [
    {
     "data": {
      "text/plain": [
       "[1, 2, 3]"
      ]
     },
     "execution_count": 58,
     "metadata": {},
     "output_type": "execute_result"
    }
   ],
   "source": [
    "[1,2,3]"
   ]
  },
  {
   "cell_type": "code",
   "execution_count": 60,
   "id": "13a04bfc-302a-4796-812b-6231383c5124",
   "metadata": {},
   "outputs": [
    {
     "data": {
      "text/plain": [
       "['hello', 'world']"
      ]
     },
     "execution_count": 60,
     "metadata": {},
     "output_type": "execute_result"
    }
   ],
   "source": [
    "['hello', 'world']"
   ]
  },
  {
   "cell_type": "code",
   "execution_count": 62,
   "id": "338968b8-cb8d-47f0-b4f5-af77d21dcd05",
   "metadata": {},
   "outputs": [
    {
     "data": {
      "text/plain": [
       "['hello', 'world', 1, 2, True]"
      ]
     },
     "execution_count": 62,
     "metadata": {},
     "output_type": "execute_result"
    }
   ],
   "source": [
    "['hello', 'world', 1, 2, True]"
   ]
  },
  {
   "cell_type": "code",
   "execution_count": 68,
   "id": "d5ecb7e4-dacd-4e24-b637-24500ceb8e70",
   "metadata": {},
   "outputs": [
    {
     "data": {
      "text/plain": [
       "[1, 2, 3, 4]"
      ]
     },
     "execution_count": 68,
     "metadata": {},
     "output_type": "execute_result"
    }
   ],
   "source": [
    "test_list = [1,2,3]\n",
    "\n",
    "# Add to the list\n",
    "test_list.append(4)\n",
    "test_list"
   ]
  },
  {
   "cell_type": "code",
   "execution_count": 70,
   "id": "3a4a3b95-ba0e-42e2-9a6d-cdaf10ab452f",
   "metadata": {},
   "outputs": [
    {
     "data": {
      "text/plain": [
       "['One', 2, 3, 4]"
      ]
     },
     "execution_count": 70,
     "metadata": {},
     "output_type": "execute_result"
    }
   ],
   "source": [
    "# Change in the list\n",
    "\n",
    "test_list[0] = \"One\"\n",
    "test_list"
   ]
  },
  {
   "cell_type": "code",
   "execution_count": 72,
   "id": "3f53ddf8-572d-4daa-84ab-c2423dd3494b",
   "metadata": {},
   "outputs": [
    {
     "data": {
      "text/plain": [
       "['One', [2, 3], True]"
      ]
     },
     "execution_count": 72,
     "metadata": {},
     "output_type": "execute_result"
    }
   ],
   "source": [
    "# Nested list\n",
    "\n",
    "nested_list = ['One', [2,3], True]\n",
    "nested_list"
   ]
  },
  {
   "cell_type": "code",
   "execution_count": 78,
   "id": "e33526ac-1598-4ca0-bee7-0358d7c8aa80",
   "metadata": {},
   "outputs": [
    {
     "data": {
      "text/plain": [
       "[2, 3]"
      ]
     },
     "execution_count": 78,
     "metadata": {},
     "output_type": "execute_result"
    }
   ],
   "source": [
    "# Indexing in nested list\n",
    "nested_list[1]"
   ]
  },
  {
   "cell_type": "code",
   "execution_count": 82,
   "id": "bc3a9591-c4ea-49ed-8f77-edaf166682bd",
   "metadata": {},
   "outputs": [
    {
     "data": {
      "text/plain": [
       "2"
      ]
     },
     "execution_count": 82,
     "metadata": {},
     "output_type": "execute_result"
    }
   ],
   "source": [
    "nested_list[1][0]"
   ]
  },
  {
   "cell_type": "markdown",
   "id": "d1faa3f4-1379-4374-9c43-75c626141149",
   "metadata": {},
   "source": [
    "### Tuples"
   ]
  },
  {
   "cell_type": "code",
   "execution_count": 88,
   "id": "7b85eaf5-aa98-4e89-b26a-4738482ead9b",
   "metadata": {},
   "outputs": [
    {
     "data": {
      "text/plain": [
       "tuple"
      ]
     },
     "execution_count": 88,
     "metadata": {},
     "output_type": "execute_result"
    }
   ],
   "source": [
    "# We cant add or change tuples\n",
    "tuple_scoops = (1,2,3,2,1)\n",
    "type(tuple_scoops)"
   ]
  },
  {
   "cell_type": "markdown",
   "id": "13d05a33-ab5c-43e1-a942-5a7441537442",
   "metadata": {},
   "source": [
    "### Sets"
   ]
  },
  {
   "cell_type": "code",
   "execution_count": 93,
   "id": "457dfa5b-35cc-4f0d-8655-ccbac4cee9d8",
   "metadata": {},
   "outputs": [
    {
     "data": {
      "text/plain": [
       "set"
      ]
     },
     "execution_count": 93,
     "metadata": {},
     "output_type": "execute_result"
    }
   ],
   "source": [
    "# Doesn't have duplicate values\n",
    "\n",
    "test_sets = {1,2,3}\n",
    "type(test_sets)"
   ]
  },
  {
   "cell_type": "code",
   "execution_count": 95,
   "id": "f31aa1c6-76c9-4397-b4e5-711376fa550d",
   "metadata": {},
   "outputs": [
    {
     "name": "stdout",
     "output_type": "stream",
     "text": [
      "{1, 2, 3, 4, 5}\n"
     ]
    }
   ],
   "source": [
    "duplicate_set = {1,2,3,4,5,1,2,3,4,5}\n",
    "print(duplicate_set)"
   ]
  },
  {
   "cell_type": "code",
   "execution_count": 97,
   "id": "3c976cfe-b06b-41c6-a84a-13ee625b9759",
   "metadata": {},
   "outputs": [
    {
     "name": "stdout",
     "output_type": "stream",
     "text": [
      "{1, 2, 3, 4, 5}\n"
     ]
    }
   ],
   "source": [
    "# Sets can be compared\n",
    "print(test_sets | duplicate_set)"
   ]
  },
  {
   "cell_type": "code",
   "execution_count": 99,
   "id": "fb135393-39d4-4d3f-bc20-2633d472e301",
   "metadata": {},
   "outputs": [
    {
     "name": "stdout",
     "output_type": "stream",
     "text": [
      "{1, 2, 3}\n"
     ]
    }
   ],
   "source": [
    "# to get the common values between sets\n",
    "print(test_sets & duplicate_set)"
   ]
  },
  {
   "cell_type": "code",
   "execution_count": 103,
   "id": "de206ff9-dfcd-48f8-8f00-4b3e443b4d10",
   "metadata": {},
   "outputs": [
    {
     "name": "stdout",
     "output_type": "stream",
     "text": [
      "{4, 5}\n"
     ]
    }
   ],
   "source": [
    "# to get the different values between sets\n",
    "print(duplicate_set - test_sets)"
   ]
  },
  {
   "cell_type": "code",
   "execution_count": 105,
   "id": "f7105f4c-32d8-4cab-a0f1-1bfbc005117c",
   "metadata": {},
   "outputs": [
    {
     "name": "stdout",
     "output_type": "stream",
     "text": [
      "{4, 5}\n"
     ]
    }
   ],
   "source": [
    "# to check if the value in one not the other only unique values\n",
    "print(duplicate_set ^ test_sets)"
   ]
  },
  {
   "cell_type": "markdown",
   "id": "3ee8a6c1-d2cd-4f4a-8756-ce5ca9f1bebc",
   "metadata": {},
   "source": [
    "### Dictionaries"
   ]
  },
  {
   "cell_type": "code",
   "execution_count": 108,
   "id": "e69af166-34d0-45d2-9402-6ba71d2ce55a",
   "metadata": {},
   "outputs": [
    {
     "data": {
      "text/plain": [
       "dict"
      ]
     },
     "execution_count": 108,
     "metadata": {},
     "output_type": "execute_result"
    }
   ],
   "source": [
    "# key/value Pair\n",
    "\n",
    "test_dict = {'first_name' : 'Ali', 'middle_name': 'Ibrahim', 'last_name' : 'Bashandy'}\n",
    "type(test_dict)"
   ]
  },
  {
   "cell_type": "code",
   "execution_count": 110,
   "id": "3dde048a-48de-44e1-bb38-a6fe2ba0f39c",
   "metadata": {},
   "outputs": [
    {
     "name": "stdout",
     "output_type": "stream",
     "text": [
      "{'first_name': 'Ali', 'middle_name': 'Ibrahim', 'last_name': 'Bashandy'}\n"
     ]
    }
   ],
   "source": [
    "print(test_dict)"
   ]
  },
  {
   "cell_type": "code",
   "execution_count": 112,
   "id": "f54350e9-46ae-47b6-a228-012c50cd701b",
   "metadata": {},
   "outputs": [
    {
     "data": {
      "text/plain": [
       "dict_values(['Ali', 'Ibrahim', 'Bashandy'])"
      ]
     },
     "execution_count": 112,
     "metadata": {},
     "output_type": "execute_result"
    }
   ],
   "source": [
    "test_dict.values()"
   ]
  },
  {
   "cell_type": "code",
   "execution_count": 114,
   "id": "a9ff86f1-470d-4136-9176-f0faf775a1f7",
   "metadata": {},
   "outputs": [
    {
     "data": {
      "text/plain": [
       "dict_keys(['first_name', 'middle_name', 'last_name'])"
      ]
     },
     "execution_count": 114,
     "metadata": {},
     "output_type": "execute_result"
    }
   ],
   "source": [
    "test_dict.keys()"
   ]
  },
  {
   "cell_type": "code",
   "execution_count": 116,
   "id": "c93567f0-402b-4ada-a7b0-3d1b3d6581b5",
   "metadata": {},
   "outputs": [
    {
     "data": {
      "text/plain": [
       "dict_items([('first_name', 'Ali'), ('middle_name', 'Ibrahim'), ('last_name', 'Bashandy')])"
      ]
     },
     "execution_count": 116,
     "metadata": {},
     "output_type": "execute_result"
    }
   ],
   "source": [
    "test_dict.items()"
   ]
  },
  {
   "cell_type": "code",
   "execution_count": 118,
   "id": "79a9ec79-e5b2-4803-bfbd-b89881573c57",
   "metadata": {},
   "outputs": [
    {
     "data": {
      "text/plain": [
       "'Ali'"
      ]
     },
     "execution_count": 118,
     "metadata": {},
     "output_type": "execute_result"
    }
   ],
   "source": [
    "# indexing dictionaries by key\n",
    "test_dict['first_name']"
   ]
  },
  {
   "cell_type": "code",
   "execution_count": 120,
   "id": "51e190ef-8fdd-4cec-8ac8-f3f60e33c674",
   "metadata": {},
   "outputs": [
    {
     "name": "stdout",
     "output_type": "stream",
     "text": [
      "{'first_name': 'Ali', 'middle_name': 'Ibrahim', 'last_name': 'Ali'}\n"
     ]
    }
   ],
   "source": [
    "# Dictinaries can be updted\n",
    "test_dict['last_name'] = 'Ali'\n",
    "print(test_dict)"
   ]
  },
  {
   "cell_type": "code",
   "execution_count": 122,
   "id": "b0e78601-8773-49ab-bb16-4e0a17f35b8b",
   "metadata": {},
   "outputs": [
    {
     "name": "stdout",
     "output_type": "stream",
     "text": [
      "{'first_name': 'Ali', 'middle_name': 'Ibrahim', 'last_name': 'Ali', 'family_name': 'Bashandy'}\n"
     ]
    }
   ],
   "source": [
    "# you can update a dictionary and it will not delete the existing value\n",
    "\n",
    "test_dict.update({'first_name': 'Ali', 'middle_name': 'Ibrahim', 'family_name': 'Bashandy'})\n",
    "print(test_dict)"
   ]
  },
  {
   "cell_type": "code",
   "execution_count": 126,
   "id": "e3995289-78f1-483a-8478-e343acef9d7d",
   "metadata": {},
   "outputs": [
    {
     "ename": "KeyError",
     "evalue": "'last_name'",
     "output_type": "error",
     "traceback": [
      "\u001b[1;31m---------------------------------------------------------------------------\u001b[0m",
      "\u001b[1;31mKeyError\u001b[0m                                  Traceback (most recent call last)",
      "Cell \u001b[1;32mIn[126], line 2\u001b[0m\n\u001b[0;32m      1\u001b[0m \u001b[38;5;66;03m# deleting by a key\u001b[39;00m\n\u001b[1;32m----> 2\u001b[0m \u001b[38;5;28;01mdel\u001b[39;00m test_dict[\u001b[38;5;124m'\u001b[39m\u001b[38;5;124mlast_name\u001b[39m\u001b[38;5;124m'\u001b[39m]\n\u001b[0;32m      3\u001b[0m \u001b[38;5;28mprint\u001b[39m(test_dict)\n",
      "\u001b[1;31mKeyError\u001b[0m: 'last_name'"
     ]
    }
   ],
   "source": [
    "# deleting by a key\n",
    "del test_dict['last_name']"
   ]
  },
  {
   "cell_type": "code",
   "execution_count": 128,
   "id": "3d8f2c9c-b361-4774-bb76-a277657fa52e",
   "metadata": {},
   "outputs": [
    {
     "name": "stdout",
     "output_type": "stream",
     "text": [
      "{'first_name': 'Ali', 'middle_name': 'Ibrahim', 'family_name': 'Bashandy'}\n"
     ]
    }
   ],
   "source": [
    "print(test_dict)"
   ]
  },
  {
   "cell_type": "code",
   "execution_count": null,
   "id": "75777207-5c7b-49ae-aa45-39500dfedd57",
   "metadata": {},
   "outputs": [],
   "source": []
  }
 ],
 "metadata": {
  "kernelspec": {
   "display_name": "Python 3 (ipykernel)",
   "language": "python",
   "name": "python3"
  },
  "language_info": {
   "codemirror_mode": {
    "name": "ipython",
    "version": 3
   },
   "file_extension": ".py",
   "mimetype": "text/x-python",
   "name": "python",
   "nbconvert_exporter": "python",
   "pygments_lexer": "ipython3",
   "version": "3.11.7"
  }
 },
 "nbformat": 4,
 "nbformat_minor": 5
}
