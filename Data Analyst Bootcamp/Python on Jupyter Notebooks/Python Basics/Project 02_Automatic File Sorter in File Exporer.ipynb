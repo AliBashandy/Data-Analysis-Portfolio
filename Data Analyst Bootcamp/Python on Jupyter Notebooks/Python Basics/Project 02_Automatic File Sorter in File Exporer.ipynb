{
 "cells": [
  {
   "cell_type": "markdown",
   "id": "df471228-8877-4796-81c3-02ca7e4d19f8",
   "metadata": {},
   "source": [
    "## Building an Automated File Sorter in File Explorer"
   ]
  },
  {
   "cell_type": "code",
   "execution_count": 3,
   "id": "d0891460-636e-4196-8f1f-1e903766685a",
   "metadata": {},
   "outputs": [],
   "source": [
    "# This to allow doing changes to OS\n",
    "import os, shutil"
   ]
  },
  {
   "cell_type": "code",
   "execution_count": 19,
   "id": "182f2b79-0e7d-4f08-b774-00aa5aa6c459",
   "metadata": {},
   "outputs": [],
   "source": [
    "# (r) allow to read the path as raw data\n",
    "# be careful its forward slashes and the last slash should be added\n",
    "path = r\"D:/Personal/\""
   ]
  },
  {
   "cell_type": "code",
   "execution_count": 29,
   "id": "2794212a-77f1-49d4-b2e3-831d19a6d5d6",
   "metadata": {},
   "outputs": [],
   "source": [
    "# This will show files in the path\n",
    "file_name = os.listdir(path)"
   ]
  },
  {
   "cell_type": "code",
   "execution_count": 25,
   "id": "f53dcd36-139e-4b4f-b7cc-a8e1f71f2cf7",
   "metadata": {},
   "outputs": [],
   "source": [
    "# Checking if the folder name exists in the main folder then creating the folders\n",
    "folder_names = ['PDF files', 'Word files', 'Images']\n",
    "for loop in range(0,3):\n",
    "    if not os.path.exists(path + folder_names[loop]):\n",
    "        os.makedirs(path + folder_names[loop])"
   ]
  },
  {
   "cell_type": "code",
   "execution_count": 43,
   "id": "0ac0905c-3954-42dc-b0fa-d750eac428d2",
   "metadata": {},
   "outputs": [],
   "source": [
    "# Moving the files if they are not exists in the target folder and the main folder\n",
    "for file in file_name:\n",
    "    if \".pdf\" in file and not os.path.exists(path + \"PDF files/\" + file):\n",
    "        shutil.move(path + file, path + \"PDF files/\" + file)\n",
    "    elif \".docx\" in file and not os.path.exists(path + \"Word files/\" + file):\n",
    "        shutil.move(path + file, path + \"Word files/\" + file)\n",
    "    elif \".jpg\" in file and not os.path.exists(path + \"Images/\" + file):\n",
    "        shutil.move(path + file, path + \"Images/\" + file) "
   ]
  },
  {
   "cell_type": "code",
   "execution_count": null,
   "id": "9b50bd15-75e0-4ae8-8df0-c11122ddc7f6",
   "metadata": {},
   "outputs": [],
   "source": []
  }
 ],
 "metadata": {
  "kernelspec": {
   "display_name": "Python 3 (ipykernel)",
   "language": "python",
   "name": "python3"
  },
  "language_info": {
   "codemirror_mode": {
    "name": "ipython",
    "version": 3
   },
   "file_extension": ".py",
   "mimetype": "text/x-python",
   "name": "python",
   "nbconvert_exporter": "python",
   "pygments_lexer": "ipython3",
   "version": "3.11.7"
  }
 },
 "nbformat": 4,
 "nbformat_minor": 5
}
