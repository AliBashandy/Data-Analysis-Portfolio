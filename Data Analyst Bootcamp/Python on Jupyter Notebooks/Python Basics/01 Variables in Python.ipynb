{
 "cells": [
  {
   "cell_type": "markdown",
   "id": "fc01bf36-4e1f-4112-8769-5e80bdedf4a7",
   "metadata": {},
   "source": [
    "### Variables types are auto identified"
   ]
  },
  {
   "cell_type": "code",
   "execution_count": 3,
   "id": "d4b1fc7f-cb0b-4f91-b6f8-f6630dd66f2b",
   "metadata": {},
   "outputs": [
    {
     "name": "stdout",
     "output_type": "stream",
     "text": [
      "22\n"
     ]
    }
   ],
   "source": [
    "x = 22\n",
    "\n",
    "print(x)"
   ]
  },
  {
   "cell_type": "code",
   "execution_count": 5,
   "id": "95e0d9cb-d7d0-42b1-ab77-2871a85d8af9",
   "metadata": {},
   "outputs": [
    {
     "data": {
      "text/plain": [
       "int"
      ]
     },
     "execution_count": 5,
     "metadata": {},
     "output_type": "execute_result"
    }
   ],
   "source": [
    "type(x)"
   ]
  },
  {
   "cell_type": "code",
   "execution_count": 7,
   "id": "dd539c49-99a3-40a9-bd2c-ded3b0c41fad",
   "metadata": {},
   "outputs": [
    {
     "name": "stdout",
     "output_type": "stream",
     "text": [
      "Mint Chocolate chip\n"
     ]
    }
   ],
   "source": [
    "y = 'Mint Chocolate chip'\n",
    "print(y)"
   ]
  },
  {
   "cell_type": "code",
   "execution_count": 9,
   "id": "a4979a55-f59b-4ca9-979b-90fa9c224544",
   "metadata": {},
   "outputs": [
    {
     "data": {
      "text/plain": [
       "str"
      ]
     },
     "execution_count": 9,
     "metadata": {},
     "output_type": "execute_result"
    }
   ],
   "source": [
    "type(y)"
   ]
  },
  {
   "cell_type": "markdown",
   "id": "8d007cb8-5199-4a61-9711-316d37871b2b",
   "metadata": {},
   "source": [
    "### You can overwrite existing a variable"
   ]
  },
  {
   "cell_type": "code",
   "execution_count": 19,
   "id": "bdaf720f-0cc4-4ad2-8f49-f31186b6c5d3",
   "metadata": {},
   "outputs": [
    {
     "name": "stdout",
     "output_type": "stream",
     "text": [
      "Chocolate\n"
     ]
    }
   ],
   "source": [
    "y = 'Chocolate'\n",
    "print(y)"
   ]
  },
  {
   "cell_type": "markdown",
   "id": "db8400e9-51b9-4981-9309-2ceeb15a8115",
   "metadata": {},
   "source": [
    "### Variables are case sensitive"
   ]
  },
  {
   "cell_type": "code",
   "execution_count": 23,
   "id": "e5285f79-2599-4917-b699-acd94dbeeff7",
   "metadata": {},
   "outputs": [
    {
     "name": "stdout",
     "output_type": "stream",
     "text": [
      "Chocolate Icecream\n"
     ]
    }
   ],
   "source": [
    "y = 'Chocolate'\n",
    "Y = 'Icecream'\n",
    "print (y,Y)"
   ]
  },
  {
   "cell_type": "markdown",
   "id": "56420644-8b00-4e66-8f8a-cccfb6e8a5a1",
   "metadata": {},
   "source": [
    "### We Can define multiple variables"
   ]
  },
  {
   "cell_type": "code",
   "execution_count": 43,
   "id": "e17bf830-4f1d-4e90-80e3-d79675357f64",
   "metadata": {},
   "outputs": [
    {
     "name": "stdout",
     "output_type": "stream",
     "text": [
      "delicious Chocolate Icecream\n"
     ]
    }
   ],
   "source": [
    "x,y,z = 'delicious', 'Chocolate', 'Icecream'\n",
    "print (x,y,z)"
   ]
  },
  {
   "cell_type": "markdown",
   "id": "befc6a4e-e3e7-4a62-9c84-9c1040b0132b",
   "metadata": {},
   "source": [
    "### We can define same value for a multiple variables"
   ]
  },
  {
   "cell_type": "code",
   "execution_count": 47,
   "id": "51baa63f-2328-4e02-832a-204646f1452f",
   "metadata": {},
   "outputs": [
    {
     "name": "stdout",
     "output_type": "stream",
     "text": [
      "Chocolate Chocolate Chocolate\n"
     ]
    }
   ],
   "source": [
    "x = y = z = 'Chocolate'\n",
    "print(x,y,z)"
   ]
  },
  {
   "cell_type": "markdown",
   "id": "4295c231-0695-4e06-9c01-99dad5743411",
   "metadata": {},
   "source": [
    "### Creating a list variable"
   ]
  },
  {
   "cell_type": "code",
   "execution_count": 50,
   "id": "bac5f60d-598e-456a-9454-ad9c8f4d4893",
   "metadata": {},
   "outputs": [
    {
     "name": "stdout",
     "output_type": "stream",
     "text": [
      "delicious Chocolate Icecream\n"
     ]
    }
   ],
   "source": [
    "slogan = ['delicious', 'Chocolate', 'Icecream']\n",
    "x,y,z = slogan\n",
    "print (x,y,z)"
   ]
  },
  {
   "cell_type": "markdown",
   "id": "6447ef81-e6a8-48ce-a8f6-7436e160c91e",
   "metadata": {},
   "source": [
    "### Naming variables\n",
    "\n",
    "#### Camel Case (testVariableCase = 'chocolate')\n",
    "\n",
    "#### Pascal Case (TestVariableCase = 'chocolate') \n",
    "\n",
    "#### Snake Case (test_variable_case = 'chocolate') best for readability"
   ]
  },
  {
   "cell_type": "markdown",
   "id": "535bceca-4357-44cb-82fe-86a42f00346b",
   "metadata": {},
   "source": [
    "### Operator with variables\n",
    "#### Can use digits at the end, underscore, capital and small letters\n",
    "#### Can't use digits in the begining, space, dash, dot, comma, etc.."
   ]
  },
  {
   "cell_type": "code",
   "execution_count": 64,
   "id": "c8cb32e3-4036-499c-a83b-0de17a73aa18",
   "metadata": {},
   "outputs": [
    {
     "name": "stdout",
     "output_type": "stream",
     "text": [
      "Ice cream is my favorite.\n"
     ]
    }
   ],
   "source": [
    "x = 'Ice cream is my favorite' + '.'\n",
    "print (x)"
   ]
  },
  {
   "cell_type": "markdown",
   "id": "1eb8dbce-4ca9-4939-af46-8553ac55187f",
   "metadata": {},
   "source": [
    "#### We can concatenate int and var as below"
   ]
  },
  {
   "cell_type": "code",
   "execution_count": 67,
   "id": "ab131732-2c8d-4af4-ad41-c3293c6f10e7",
   "metadata": {},
   "outputs": [
    {
     "name": "stdout",
     "output_type": "stream",
     "text": [
      "Ice Cream 2\n"
     ]
    }
   ],
   "source": [
    "x = 'Ice Cream'\n",
    "y = 2\n",
    "print (x,y)"
   ]
  },
  {
   "cell_type": "code",
   "execution_count": null,
   "id": "d3524fe5-323c-4fe6-bc3b-be894ac0fb3f",
   "metadata": {},
   "outputs": [],
   "source": []
  }
 ],
 "metadata": {
  "kernelspec": {
   "display_name": "Python 3 (ipykernel)",
   "language": "python",
   "name": "python3"
  },
  "language_info": {
   "codemirror_mode": {
    "name": "ipython",
    "version": 3
   },
   "file_extension": ".py",
   "mimetype": "text/x-python",
   "name": "python",
   "nbconvert_exporter": "python",
   "pygments_lexer": "ipython3",
   "version": "3.11.7"
  }
 },
 "nbformat": 4,
 "nbformat_minor": 5
}
