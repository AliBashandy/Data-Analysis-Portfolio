{
 "cells": [
  {
   "cell_type": "markdown",
   "id": "54de8a87-70df-421c-a4d6-db992302a79d",
   "metadata": {},
   "source": [
    "## Converting Data Types"
   ]
  },
  {
   "cell_type": "code",
   "execution_count": 2,
   "id": "a3e33780-bcac-4b40-9c4d-6387d8344786",
   "metadata": {},
   "outputs": [
    {
     "data": {
      "text/plain": [
       "int"
      ]
     },
     "execution_count": 2,
     "metadata": {},
     "output_type": "execute_result"
    }
   ],
   "source": [
    "num_int = 7\n",
    "type(num_int)"
   ]
  },
  {
   "cell_type": "code",
   "execution_count": 3,
   "id": "e2895353-49ec-4659-b68d-ec747be15e39",
   "metadata": {},
   "outputs": [
    {
     "data": {
      "text/plain": [
       "str"
      ]
     },
     "execution_count": 3,
     "metadata": {},
     "output_type": "execute_result"
    }
   ],
   "source": [
    "num_str = '7'\n",
    "type(num_str)"
   ]
  },
  {
   "cell_type": "code",
   "execution_count": 4,
   "id": "98c28347-02cd-4078-baa7-f15a854a8eb7",
   "metadata": {},
   "outputs": [
    {
     "data": {
      "text/plain": [
       "int"
      ]
     },
     "execution_count": 4,
     "metadata": {},
     "output_type": "execute_result"
    }
   ],
   "source": [
    "num_str_conv = int(num_str)\n",
    "type(num_str_conv)"
   ]
  },
  {
   "cell_type": "code",
   "execution_count": 5,
   "id": "83cd5320-eccb-494c-9301-0c08a860115e",
   "metadata": {},
   "outputs": [
    {
     "data": {
      "text/plain": [
       "list"
      ]
     },
     "execution_count": 5,
     "metadata": {},
     "output_type": "execute_result"
    }
   ],
   "source": [
    "list_test = [1,2,3]\n",
    "type(list_test)"
   ]
  },
  {
   "cell_type": "code",
   "execution_count": 6,
   "id": "afc7bf72-669f-47a5-9b18-f76669787a16",
   "metadata": {},
   "outputs": [
    {
     "data": {
      "text/plain": [
       "tuple"
      ]
     },
     "execution_count": 6,
     "metadata": {},
     "output_type": "execute_result"
    }
   ],
   "source": [
    "type(tuple(list_test))"
   ]
  },
  {
   "cell_type": "code",
   "execution_count": 7,
   "id": "4885634a-b491-4429-b244-06f09d1f102a",
   "metadata": {},
   "outputs": [
    {
     "data": {
      "text/plain": [
       "{1, 2, 3}"
      ]
     },
     "execution_count": 7,
     "metadata": {},
     "output_type": "execute_result"
    }
   ],
   "source": [
    "list_test = [1,2,3,1,2,3,1,2,3]\n",
    "set(list_test)"
   ]
  },
  {
   "cell_type": "code",
   "execution_count": 8,
   "id": "c275485d-86d9-4a10-b5ff-0c3e773c1068",
   "metadata": {},
   "outputs": [],
   "source": [
    "dict_type = {'name': 'Ali', 'age':35}"
   ]
  },
  {
   "cell_type": "code",
   "execution_count": 9,
   "id": "72fed27e-acdf-4df6-9ca5-45f01c492ab1",
   "metadata": {},
   "outputs": [
    {
     "data": {
      "text/plain": [
       "dict_keys(['name', 'age'])"
      ]
     },
     "execution_count": 9,
     "metadata": {},
     "output_type": "execute_result"
    }
   ],
   "source": [
    "dict_type.keys()"
   ]
  },
  {
   "cell_type": "code",
   "execution_count": 12,
   "id": "e26abe7e-7309-4c7a-a1bd-fac0b641aa7a",
   "metadata": {},
   "outputs": [
    {
     "data": {
      "text/plain": [
       "['Ali', 35]"
      ]
     },
     "execution_count": 12,
     "metadata": {},
     "output_type": "execute_result"
    }
   ],
   "source": [
    "list(dict_type.values())"
   ]
  },
  {
   "cell_type": "code",
   "execution_count": 22,
   "id": "a21b849d-17c3-4f1d-86d4-1547bfa49360",
   "metadata": {},
   "outputs": [],
   "source": [
    "long_str = \"I Like to party\""
   ]
  },
  {
   "cell_type": "code",
   "execution_count": 24,
   "id": "fa891365-ee2c-461b-ab57-1b5c8c67055c",
   "metadata": {},
   "outputs": [
    {
     "data": {
      "text/plain": [
       "['I', ' ', 'L', 'i', 'k', 'e', ' ', 't', 'o', ' ', 'p', 'a', 'r', 't', 'y']"
      ]
     },
     "execution_count": 24,
     "metadata": {},
     "output_type": "execute_result"
    }
   ],
   "source": [
    "list(long_str)"
   ]
  },
  {
   "cell_type": "code",
   "execution_count": 26,
   "id": "8eb7e8db-2d54-4b2a-b028-656f39de3bd2",
   "metadata": {},
   "outputs": [
    {
     "data": {
      "text/plain": [
       "{' ', 'I', 'L', 'a', 'e', 'i', 'k', 'o', 'p', 'r', 't', 'y'}"
      ]
     },
     "execution_count": 26,
     "metadata": {},
     "output_type": "execute_result"
    }
   ],
   "source": [
    "set(long_str)"
   ]
  },
  {
   "cell_type": "code",
   "execution_count": null,
   "id": "36708be7-5407-4623-b028-d97987931f6f",
   "metadata": {},
   "outputs": [],
   "source": []
  }
 ],
 "metadata": {
  "kernelspec": {
   "display_name": "Python 3 (ipykernel)",
   "language": "python",
   "name": "python3"
  },
  "language_info": {
   "codemirror_mode": {
    "name": "ipython",
    "version": 3
   },
   "file_extension": ".py",
   "mimetype": "text/x-python",
   "name": "python",
   "nbconvert_exporter": "python",
   "pygments_lexer": "ipython3",
   "version": "3.11.7"
  }
 },
 "nbformat": 4,
 "nbformat_minor": 5
}
