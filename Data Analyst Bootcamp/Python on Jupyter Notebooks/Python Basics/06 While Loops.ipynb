{
 "cells": [
  {
   "cell_type": "markdown",
   "id": "23c07324-5eff-4032-a8b1-009c43e4912d",
   "metadata": {},
   "source": [
    "While Loops"
   ]
  },
  {
   "cell_type": "markdown",
   "id": "cdb7ea2c-d448-416f-b29d-77e45f7600e6",
   "metadata": {},
   "source": [
    "#### Variables should be defined in code chunk.\n",
    "#### Need to be careful to avoid infinite loop"
   ]
  },
  {
   "cell_type": "code",
   "execution_count": 2,
   "id": "05bfb95e-a1b8-44f8-85f9-cd247be21e57",
   "metadata": {},
   "outputs": [
    {
     "name": "stdout",
     "output_type": "stream",
     "text": [
      "0\n",
      "1\n",
      "2\n",
      "3\n",
      "4\n"
     ]
    }
   ],
   "source": [
    "x = 0\n",
    "while x < 5:\n",
    "    print(x)\n",
    "    x = x + 1"
   ]
  },
  {
   "cell_type": "code",
   "execution_count": 3,
   "id": "46386760-9f5f-4ad7-8d5b-f5653e711de0",
   "metadata": {},
   "outputs": [
    {
     "name": "stdout",
     "output_type": "stream",
     "text": [
      "0\n",
      "1\n",
      "2\n",
      "3\n"
     ]
    }
   ],
   "source": [
    "x = 0\n",
    "while x < 5:\n",
    "    print(x)\n",
    "    if x == 3:\n",
    "        break\n",
    "    x = x + 1"
   ]
  },
  {
   "cell_type": "code",
   "execution_count": 4,
   "id": "bd3ff27b-e9cc-4690-8b96-d89f0761bbff",
   "metadata": {},
   "outputs": [
    {
     "name": "stdout",
     "output_type": "stream",
     "text": [
      "0\n",
      "1\n",
      "2\n",
      "3\n"
     ]
    }
   ],
   "source": [
    "x = 0\n",
    "while x < 5:\n",
    "    print(x)\n",
    "    if x == 3:\n",
    "        break\n",
    "    x = x + 1"
   ]
  },
  {
   "cell_type": "code",
   "execution_count": 10,
   "id": "02ed7d27-0811-49a5-96cf-09ce445976c1",
   "metadata": {},
   "outputs": [
    {
     "name": "stdout",
     "output_type": "stream",
     "text": [
      "0\n",
      "1\n",
      "2\n",
      "3\n",
      "4\n",
      "The End\n"
     ]
    }
   ],
   "source": [
    "x = 0\n",
    "while x < 5:\n",
    "    print(x)\n",
    "    if x == 6:\n",
    "        break\n",
    "    x = x + 1\n",
    "else:\n",
    "    print('The End')"
   ]
  },
  {
   "cell_type": "code",
   "execution_count": 16,
   "id": "d84ee58b-1659-44ea-bb5e-3c6df913ab82",
   "metadata": {},
   "outputs": [
    {
     "name": "stdout",
     "output_type": "stream",
     "text": [
      "1\n",
      "2\n",
      "4\n",
      "5\n",
      "The End\n"
     ]
    }
   ],
   "source": [
    "## Using continue will skip the number 3 and continue to count.\n",
    "## the counter should be before the if statement to avoid infinite loop of number 3\n",
    "x = 0\n",
    "while x < 5:\n",
    "    x = x + 1\n",
    "    if x == 3:\n",
    "        continue\n",
    "    print(x)\n",
    "else:\n",
    "    print('The End')"
   ]
  },
  {
   "cell_type": "code",
   "execution_count": null,
   "id": "96ef205f-2a5d-4cdb-a3bd-4c49ac7640af",
   "metadata": {},
   "outputs": [],
   "source": []
  }
 ],
 "metadata": {
  "kernelspec": {
   "display_name": "Python 3 (ipykernel)",
   "language": "python",
   "name": "python3"
  },
  "language_info": {
   "codemirror_mode": {
    "name": "ipython",
    "version": 3
   },
   "file_extension": ".py",
   "mimetype": "text/x-python",
   "name": "python",
   "nbconvert_exporter": "python",
   "pygments_lexer": "ipython3",
   "version": "3.11.7"
  }
 },
 "nbformat": 4,
 "nbformat_minor": 5
}
