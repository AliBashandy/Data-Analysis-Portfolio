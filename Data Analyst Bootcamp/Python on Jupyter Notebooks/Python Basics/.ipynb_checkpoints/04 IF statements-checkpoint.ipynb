{
 "cells": [
  {
   "cell_type": "markdown",
   "id": "868470ab-2c13-4b86-b6c6-eb26def9d36a",
   "metadata": {},
   "source": [
    "### IF - Elif - ELSE"
   ]
  },
  {
   "cell_type": "code",
   "execution_count": 4,
   "id": "447ce950-2357-4b7d-8c0a-14d06ed68f93",
   "metadata": {},
   "outputs": [
    {
     "name": "stdout",
     "output_type": "stream",
     "text": [
      "Correct\n"
     ]
    }
   ],
   "source": [
    "if 10 > 5:\n",
    "    print('Correct')"
   ]
  },
  {
   "cell_type": "code",
   "execution_count": 10,
   "id": "c8dc9022-ec1c-4971-bbde-3e17471a4b50",
   "metadata": {},
   "outputs": [
    {
     "name": "stdout",
     "output_type": "stream",
     "text": [
      "Wrong\n"
     ]
    }
   ],
   "source": [
    "if 10 < 5:\n",
    "    print('Correct')\n",
    "else:\n",
    "    print('Wrong')"
   ]
  },
  {
   "cell_type": "code",
   "execution_count": 16,
   "id": "fa10d25c-e655-4474-8e31-1ec58c199dea",
   "metadata": {},
   "outputs": [
    {
     "name": "stdout",
     "output_type": "stream",
     "text": [
      "Second Correct\n"
     ]
    }
   ],
   "source": [
    "if 10 < 5:\n",
    "    print('First Correct')\n",
    "elif 10 > 6 :\n",
    "    print('Second Correct')\n",
    "elif 10 > 50:\n",
    "    print('Third correct')\n",
    "else:\n",
    "    print('Wrong')"
   ]
  },
  {
   "cell_type": "code",
   "execution_count": 18,
   "id": "4a6454f0-e19f-4949-81af-063c02889545",
   "metadata": {},
   "outputs": [
    {
     "name": "stdout",
     "output_type": "stream",
     "text": [
      "correct\n"
     ]
    }
   ],
   "source": [
    "print ('correct') if 10 >5 else print('Wrong')"
   ]
  },
  {
   "cell_type": "code",
   "execution_count": 26,
   "id": "243c1c57-9829-4b02-9aba-950763efbc9e",
   "metadata": {},
   "outputs": [
    {
     "name": "stdout",
     "output_type": "stream",
     "text": [
      "First Correct\n",
      "nested IF is correct\n"
     ]
    }
   ],
   "source": [
    "if 10 > 5:\n",
    "    print('First Correct')\n",
    "    if 10 > 5:\n",
    "        print('nested IF is correct')\n",
    "elif 10 > 6 :\n",
    "    print('Second Correct')\n",
    "elif 10 > 50:\n",
    "    print('Third correct')\n",
    "else:\n",
    "    print('Wrong')"
   ]
  },
  {
   "cell_type": "code",
   "execution_count": null,
   "id": "9a755852-ade6-4bfe-a163-dadbb3a6e40a",
   "metadata": {},
   "outputs": [],
   "source": []
  }
 ],
 "metadata": {
  "kernelspec": {
   "display_name": "Python 3 (ipykernel)",
   "language": "python",
   "name": "python3"
  },
  "language_info": {
   "codemirror_mode": {
    "name": "ipython",
    "version": 3
   },
   "file_extension": ".py",
   "mimetype": "text/x-python",
   "name": "python",
   "nbconvert_exporter": "python",
   "pygments_lexer": "ipython3",
   "version": "3.11.7"
  }
 },
 "nbformat": 4,
 "nbformat_minor": 5
}
