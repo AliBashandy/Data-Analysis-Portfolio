{
 "cells": [
  {
   "cell_type": "markdown",
   "id": "24d46ce2-1334-44dd-9464-da63ffce7e68",
   "metadata": {},
   "source": [
    "## BMI Calculator\n",
    "\n",
    "##### Formula: weight (lb) / [height (in)]2 x 703esity III\t> 40"
   ]
  },
  {
   "cell_type": "raw",
   "id": "86789610-41b1-4a40-8168-85641bb02e27",
   "metadata": {},
   "source": [
    "The standard weight status categories associated with BMI ranges for adults are shown in the following table.\n",
    "\n",
    "BMI\t| Weight Status\n",
    "Below 18.5\t| Underweight\n",
    "18.5 – 24.9\t| Healthy Weight\n",
    "25.0 – 29.9\t| Overweight\n",
    "30.0 and Above\t| Obesity\n"
   ]
  },
  {
   "cell_type": "code",
   "execution_count": 29,
   "id": "19158315-7873-4b61-beaf-153a8e2086dc",
   "metadata": {},
   "outputs": [
    {
     "name": "stdin",
     "output_type": "stream",
     "text": [
      "Weight in lbs: 80000\n",
      "Height in inches 150\n"
     ]
    },
    {
     "name": "stdout",
     "output_type": "stream",
     "text": [
      "BMI = 2499.555555555555\n",
      "Obesity\n"
     ]
    }
   ],
   "source": [
    "weight = int(input(\"Weight in lbs:\"))\n",
    "height = int(input(\"Height in inches:\"))\n",
    "BMI = (weight / (height*height)) * 703\n",
    "print(\"BMI =\", BMI)\n",
    "\n",
    "if BMI < 18.5:\n",
    "    print(\"Under Weight\")\n",
    "elif BMI >= 18.5 and BMI < 25:\n",
    "    print(\"Healthy Weight\")\n",
    "elif BMI >= 25 and BMI < 30:\n",
    "    print(\"Overweight\")\n",
    "elif BMI >= 30:\n",
    "    print(\"Obesity\")\n",
    "else:\n",
    "    print(\"Error\")"
   ]
  },
  {
   "cell_type": "code",
   "execution_count": null,
   "id": "62e01a05-6368-484f-956b-18f0d072698f",
   "metadata": {},
   "outputs": [],
   "source": []
  }
 ],
 "metadata": {
  "kernelspec": {
   "display_name": "Python 3 (ipykernel)",
   "language": "python",
   "name": "python3"
  },
  "language_info": {
   "codemirror_mode": {
    "name": "ipython",
    "version": 3
   },
   "file_extension": ".py",
   "mimetype": "text/x-python",
   "name": "python",
   "nbconvert_exporter": "python",
   "pygments_lexer": "ipython3",
   "version": "3.11.7"
  }
 },
 "nbformat": 4,
 "nbformat_minor": 5
}
