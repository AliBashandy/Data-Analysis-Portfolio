{
 "cells": [
  {
   "cell_type": "markdown",
   "id": "f2d4ca38-1dc4-48db-bf2f-76c8c627480f",
   "metadata": {},
   "source": [
    "### Comparison operators \n",
    "\n",
    "##### == equal\n",
    "##### != not equal\n",
    "##### > Greater than\n",
    "##### > less than\n",
    "##### >= Greater than or equal\n",
    "##### <= Less than or equal"
   ]
  },
  {
   "cell_type": "code",
   "execution_count": 2,
   "id": "c5da2e73-2455-44ff-b1ce-c385f2273f08",
   "metadata": {},
   "outputs": [
    {
     "data": {
      "text/plain": [
       "True"
      ]
     },
     "execution_count": 2,
     "metadata": {},
     "output_type": "execute_result"
    }
   ],
   "source": [
    "10 == 10"
   ]
  },
  {
   "cell_type": "code",
   "execution_count": 4,
   "id": "9c913bda-ff28-4e9f-ae7f-c3fe7ebbf8b5",
   "metadata": {},
   "outputs": [
    {
     "data": {
      "text/plain": [
       "False"
      ]
     },
     "execution_count": 4,
     "metadata": {},
     "output_type": "execute_result"
    }
   ],
   "source": [
    "10 == 50"
   ]
  },
  {
   "cell_type": "code",
   "execution_count": 6,
   "id": "e2eb24e7-f41c-4059-869d-fd45d120d722",
   "metadata": {},
   "outputs": [
    {
     "data": {
      "text/plain": [
       "True"
      ]
     },
     "execution_count": 6,
     "metadata": {},
     "output_type": "execute_result"
    }
   ],
   "source": [
    "10 != 50"
   ]
  },
  {
   "cell_type": "code",
   "execution_count": 8,
   "id": "892fb662-3edc-49f6-a4f5-2283b9136cf5",
   "metadata": {},
   "outputs": [
    {
     "data": {
      "text/plain": [
       "False"
      ]
     },
     "execution_count": 8,
     "metadata": {},
     "output_type": "execute_result"
    }
   ],
   "source": [
    "'vanila' == 'chocolate'"
   ]
  },
  {
   "cell_type": "code",
   "execution_count": 10,
   "id": "70aa3801-d28e-4cf6-88d8-b237d9e03905",
   "metadata": {},
   "outputs": [
    {
     "data": {
      "text/plain": [
       "False"
      ]
     },
     "execution_count": 10,
     "metadata": {},
     "output_type": "execute_result"
    }
   ],
   "source": [
    "x = 1\n",
    "y = 2\n",
    "\n",
    "x==y"
   ]
  },
  {
   "cell_type": "code",
   "execution_count": 12,
   "id": "c031e9c5-01dc-41f6-9da7-8508ce8a6189",
   "metadata": {},
   "outputs": [
    {
     "data": {
      "text/plain": [
       "True"
      ]
     },
     "execution_count": 12,
     "metadata": {},
     "output_type": "execute_result"
    }
   ],
   "source": [
    "10 < 50"
   ]
  },
  {
   "cell_type": "code",
   "execution_count": 14,
   "id": "c1384327-a403-4ec5-a584-086a8158b6f3",
   "metadata": {},
   "outputs": [
    {
     "data": {
      "text/plain": [
       "False"
      ]
     },
     "execution_count": 14,
     "metadata": {},
     "output_type": "execute_result"
    }
   ],
   "source": [
    "10 < 10"
   ]
  },
  {
   "cell_type": "code",
   "execution_count": 16,
   "id": "8a833d36-b804-416c-ace3-5c42ea611dad",
   "metadata": {},
   "outputs": [
    {
     "data": {
      "text/plain": [
       "True"
      ]
     },
     "execution_count": 16,
     "metadata": {},
     "output_type": "execute_result"
    }
   ],
   "source": [
    "10 <= 10"
   ]
  },
  {
   "cell_type": "markdown",
   "id": "a9f3a8ee-5393-4347-9473-2397d8789c48",
   "metadata": {},
   "source": [
    "### Logical Operators\n",
    "\n",
    "##### and | or | not"
   ]
  },
  {
   "cell_type": "code",
   "execution_count": 20,
   "id": "a5de742a-fa0d-4542-8033-40a6617b6d1d",
   "metadata": {},
   "outputs": [
    {
     "data": {
      "text/plain": [
       "True"
      ]
     },
     "execution_count": 20,
     "metadata": {},
     "output_type": "execute_result"
    }
   ],
   "source": [
    "1 == 1 and 2 == 2"
   ]
  },
  {
   "cell_type": "code",
   "execution_count": 22,
   "id": "5c444f87-9a0f-49db-9315-3c476048c7cf",
   "metadata": {},
   "outputs": [
    {
     "data": {
      "text/plain": [
       "True"
      ]
     },
     "execution_count": 22,
     "metadata": {},
     "output_type": "execute_result"
    }
   ],
   "source": [
    "10>50 or 50<100"
   ]
  },
  {
   "cell_type": "code",
   "execution_count": 24,
   "id": "edfcdf97-bdd9-48f9-bfcb-f805eaf3c42e",
   "metadata": {},
   "outputs": [
    {
     "data": {
      "text/plain": [
       "False"
      ]
     },
     "execution_count": 24,
     "metadata": {},
     "output_type": "execute_result"
    }
   ],
   "source": [
    "10>50 and 50<100"
   ]
  },
  {
   "cell_type": "code",
   "execution_count": 30,
   "id": "73dbaf49-e2ff-4358-a514-2d1ea3ef3989",
   "metadata": {},
   "outputs": [
    {
     "data": {
      "text/plain": [
       "True"
      ]
     },
     "execution_count": 30,
     "metadata": {},
     "output_type": "execute_result"
    }
   ],
   "source": [
    "not 10>50"
   ]
  },
  {
   "cell_type": "markdown",
   "id": "12249d26-a866-470f-8776-abf3ca93e0e6",
   "metadata": {},
   "source": [
    "### Membership Operators\n",
    "##### in | not in"
   ]
  },
  {
   "cell_type": "code",
   "execution_count": 37,
   "id": "f90f356e-f93d-4bdd-a0f0-13c02c233bb6",
   "metadata": {},
   "outputs": [
    {
     "data": {
      "text/plain": [
       "True"
      ]
     },
     "execution_count": 37,
     "metadata": {},
     "output_type": "execute_result"
    }
   ],
   "source": [
    "x = 'Deliciuos chocolate ice cream'\n",
    "'chocolate' in x"
   ]
  },
  {
   "cell_type": "code",
   "execution_count": 39,
   "id": "4459fe02-16e7-4304-99c8-fdc75a91a753",
   "metadata": {},
   "outputs": [
    {
     "data": {
      "text/plain": [
       "False"
      ]
     },
     "execution_count": 39,
     "metadata": {},
     "output_type": "execute_result"
    }
   ],
   "source": [
    "x = 'Deliciuos chocolate ice cream'\n",
    "'chocolate' not in x"
   ]
  },
  {
   "cell_type": "code",
   "execution_count": 41,
   "id": "6c04f6df-6c0d-4c71-948d-bf9aac7358e3",
   "metadata": {},
   "outputs": [
    {
     "data": {
      "text/plain": [
       "True"
      ]
     },
     "execution_count": 41,
     "metadata": {},
     "output_type": "execute_result"
    }
   ],
   "source": [
    "list = [1,2,3]\n",
    "num = 3\n",
    "num in list"
   ]
  },
  {
   "cell_type": "code",
   "execution_count": 43,
   "id": "aa54e753-0b33-4139-b0f9-c1d9af9d3c9c",
   "metadata": {},
   "outputs": [
    {
     "data": {
      "text/plain": [
       "False"
      ]
     },
     "execution_count": 43,
     "metadata": {},
     "output_type": "execute_result"
    }
   ],
   "source": [
    "list = [1,2,3]\n",
    "num = 4\n",
    "num in list"
   ]
  },
  {
   "cell_type": "code",
   "execution_count": null,
   "id": "05d10b81-d551-4f7b-ac1e-b9aebc0e8af8",
   "metadata": {},
   "outputs": [],
   "source": []
  }
 ],
 "metadata": {
  "kernelspec": {
   "display_name": "Python 3 (ipykernel)",
   "language": "python",
   "name": "python3"
  },
  "language_info": {
   "codemirror_mode": {
    "name": "ipython",
    "version": 3
   },
   "file_extension": ".py",
   "mimetype": "text/x-python",
   "name": "python",
   "nbconvert_exporter": "python",
   "pygments_lexer": "ipython3",
   "version": "3.11.7"
  }
 },
 "nbformat": 4,
 "nbformat_minor": 5
}
