{
 "cells": [
  {
   "cell_type": "markdown",
   "id": "2f7c1b88-c1ea-4e8a-b6d3-d387508886b8",
   "metadata": {},
   "source": [
    "### Functions\n",
    "##### Define custom function to be recalled later"
   ]
  },
  {
   "cell_type": "code",
   "execution_count": 5,
   "id": "4bb2cfef-9da4-4fb5-87d4-a275a7e96935",
   "metadata": {},
   "outputs": [
    {
     "name": "stdout",
     "output_type": "stream",
     "text": [
      "My First Funtion\n"
     ]
    }
   ],
   "source": [
    "# syntax of function\n",
    "\n",
    "def first_fn():\n",
    "    print(\"My First Funtion\")\n",
    "\n",
    "first_fn()"
   ]
  },
  {
   "cell_type": "code",
   "execution_count": 7,
   "id": "3b31d029-a5e5-480d-b442-089eb01a566d",
   "metadata": {},
   "outputs": [],
   "source": [
    "# Arguments in function\n",
    "\n",
    "def first_name(fname):\n",
    "    print('Frist Name:',fname)"
   ]
  },
  {
   "cell_type": "code",
   "execution_count": 11,
   "id": "ed1340ec-ef55-4b5c-a45e-38a22dddf1ce",
   "metadata": {},
   "outputs": [
    {
     "name": "stdout",
     "output_type": "stream",
     "text": [
      "Frist Name: Ali\n"
     ]
    }
   ],
   "source": [
    "first_name('Ali')"
   ]
  },
  {
   "cell_type": "code",
   "execution_count": 13,
   "id": "e767e319-8367-43a5-b3a1-c03dcb3455c9",
   "metadata": {},
   "outputs": [],
   "source": [
    "# Multiple arguments in function\n",
    "\n",
    "def mult_num(x,y):\n",
    "    print(x*y)"
   ]
  },
  {
   "cell_type": "code",
   "execution_count": 15,
   "id": "5d6a3764-acd8-4742-8f40-de87acaeb72b",
   "metadata": {},
   "outputs": [
    {
     "name": "stdout",
     "output_type": "stream",
     "text": [
      "15\n"
     ]
    }
   ],
   "source": [
    "mult_num(3,5)"
   ]
  },
  {
   "cell_type": "code",
   "execution_count": 17,
   "id": "4d774a51-e054-4fe5-b5a1-d6812465c39f",
   "metadata": {},
   "outputs": [],
   "source": [
    "# Arbitary Arguments\n",
    "## define an indefinite number of arguments\n",
    "\n",
    "def number_args(*args):\n",
    "    print(args[0] * args[1])"
   ]
  },
  {
   "cell_type": "code",
   "execution_count": 21,
   "id": "51a33f43-ae6a-458c-a424-fce4f80c1bd0",
   "metadata": {},
   "outputs": [
    {
     "name": "stdout",
     "output_type": "stream",
     "text": [
      "2\n"
     ]
    }
   ],
   "source": [
    "number_args(1,2,3,4)"
   ]
  },
  {
   "cell_type": "code",
   "execution_count": 23,
   "id": "b862ab47-45a4-42b7-933d-346020582ab1",
   "metadata": {},
   "outputs": [],
   "source": [
    "args_tuple = (1,2,3,4)\n",
    "\n",
    "def number_args(*args):\n",
    "    print(args[0] * args[1])"
   ]
  },
  {
   "cell_type": "code",
   "execution_count": 25,
   "id": "12536a62-1552-48ec-a260-b0d8a478ce1b",
   "metadata": {},
   "outputs": [
    {
     "name": "stdout",
     "output_type": "stream",
     "text": [
      "2\n"
     ]
    }
   ],
   "source": [
    "## Be careful from the asterik when defining the argument in the function\n",
    "number_args(*args_tuple)"
   ]
  },
  {
   "cell_type": "code",
   "execution_count": 31,
   "id": "d23e62e3-f27a-489c-b775-fcfa1ae961dc",
   "metadata": {},
   "outputs": [],
   "source": [
    "# Keyword argument\n",
    "## give control to defining the arguments\n",
    "\n",
    "def number_squared(number, power):\n",
    "    print(number**power)\n"
   ]
  },
  {
   "cell_type": "code",
   "execution_count": 37,
   "id": "2f333ed2-a977-41d7-bbfe-e3db1fd7cd2f",
   "metadata": {},
   "outputs": [
    {
     "name": "stdout",
     "output_type": "stream",
     "text": [
      "32\n"
     ]
    }
   ],
   "source": [
    "number_squared(power = 5, number = 2)"
   ]
  },
  {
   "cell_type": "code",
   "execution_count": 47,
   "id": "30229120-be9a-449f-a7b1-474495f79267",
   "metadata": {},
   "outputs": [],
   "source": [
    "# Artibary Keyword argumants\n",
    "## give control to defining multiple arguments\n",
    "\n",
    "def akwarg(**number):\n",
    "    print('Day:' + number['x'] + ' Month:' + number['y'] + ' Year:'+ number['z'])\n"
   ]
  },
  {
   "cell_type": "code",
   "execution_count": 49,
   "id": "ebc569be-e4a0-4745-89b7-c1e36df9a0df",
   "metadata": {},
   "outputs": [
    {
     "name": "stdout",
     "output_type": "stream",
     "text": [
      "Day:26 Month:July Year:1989\n"
     ]
    }
   ],
   "source": [
    "akwarg(x= '26', y='July', z='1989')"
   ]
  },
  {
   "cell_type": "code",
   "execution_count": null,
   "id": "da42b9b2-180a-4d1f-bb9f-80db3da979b3",
   "metadata": {},
   "outputs": [],
   "source": []
  }
 ],
 "metadata": {
  "kernelspec": {
   "display_name": "Python 3 (ipykernel)",
   "language": "python",
   "name": "python3"
  },
  "language_info": {
   "codemirror_mode": {
    "name": "ipython",
    "version": 3
   },
   "file_extension": ".py",
   "mimetype": "text/x-python",
   "name": "python",
   "nbconvert_exporter": "python",
   "pygments_lexer": "ipython3",
   "version": "3.11.7"
  }
 },
 "nbformat": 4,
 "nbformat_minor": 5
}
