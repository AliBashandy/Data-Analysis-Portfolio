{
 "cells": [
  {
   "cell_type": "markdown",
   "id": "6984342e-8609-4516-b666-93148346a43e",
   "metadata": {},
   "source": [
    "### For Loops"
   ]
  },
  {
   "cell_type": "code",
   "execution_count": 2,
   "id": "8ed04f90-25fa-4ef9-adfc-b03d5a912905",
   "metadata": {},
   "outputs": [],
   "source": [
    "x = [1,2,3,4,5]"
   ]
  },
  {
   "cell_type": "code",
   "execution_count": 4,
   "id": "d9e2974d-3cb0-4a2b-a285-5fbe1844b3e5",
   "metadata": {},
   "outputs": [
    {
     "name": "stdout",
     "output_type": "stream",
     "text": [
      "1\n",
      "2\n",
      "3\n",
      "4\n",
      "5\n"
     ]
    }
   ],
   "source": [
    "for number in x:\n",
    "    print(number)"
   ]
  },
  {
   "cell_type": "code",
   "execution_count": 6,
   "id": "0bc825f5-0af6-492d-83c2-abdc3acea7a2",
   "metadata": {},
   "outputs": [
    {
     "name": "stdout",
     "output_type": "stream",
     "text": [
      "test\n",
      "test\n",
      "test\n",
      "test\n",
      "test\n"
     ]
    }
   ],
   "source": [
    "for number in x:\n",
    "    print('test')"
   ]
  },
  {
   "cell_type": "code",
   "execution_count": 8,
   "id": "7e097aac-49d5-4888-a160-885e502ba253",
   "metadata": {},
   "outputs": [],
   "source": [
    "x = [1,2,3,4,5]"
   ]
  },
  {
   "cell_type": "code",
   "execution_count": 10,
   "id": "375890f4-24ba-40c5-bf91-cb4b6154b1bf",
   "metadata": {},
   "outputs": [
    {
     "name": "stdout",
     "output_type": "stream",
     "text": [
      "2\n",
      "4\n",
      "6\n",
      "8\n",
      "10\n"
     ]
    }
   ],
   "source": [
    "for sum in x:\n",
    "    print(sum+sum)"
   ]
  },
  {
   "cell_type": "code",
   "execution_count": 12,
   "id": "4558d9b1-9354-4287-8be5-f6be6522f3ec",
   "metadata": {},
   "outputs": [],
   "source": [
    "test_dict = {'name': 'Ali', 'middle name': 'Ibrahim', 'last name': 'Bashandy', 'birth date':['26', 'July'] }"
   ]
  },
  {
   "cell_type": "code",
   "execution_count": 14,
   "id": "587aa47a-1b8e-4221-bd3b-b885d8054737",
   "metadata": {},
   "outputs": [
    {
     "name": "stdout",
     "output_type": "stream",
     "text": [
      "Ali\n",
      "Ibrahim\n",
      "Bashandy\n",
      "['26', 'July']\n"
     ]
    }
   ],
   "source": [
    "for info in test_dict.values():\n",
    "    print(info)"
   ]
  },
  {
   "cell_type": "code",
   "execution_count": 18,
   "id": "91d850ad-797f-4d9f-9cfc-e39f0c3de25f",
   "metadata": {},
   "outputs": [
    {
     "name": "stdout",
     "output_type": "stream",
     "text": [
      "name : Ali\n",
      "middle name : Ibrahim\n",
      "last name : Bashandy\n",
      "birth date : ['26', 'July']\n"
     ]
    }
   ],
   "source": [
    "for key, value in test_dict.items():\n",
    "    print(key, ':', value)"
   ]
  },
  {
   "cell_type": "markdown",
   "id": "c33d6cf8-1c5a-442c-984b-3e76ff44fdc8",
   "metadata": {},
   "source": [
    "### Nested For Loops"
   ]
  },
  {
   "cell_type": "code",
   "execution_count": 21,
   "id": "b3c83da3-ed9d-424b-b668-0dba085c24eb",
   "metadata": {},
   "outputs": [],
   "source": [
    "x = [1,2,3,4,5]\n",
    "y = [1,2,3,4,5]"
   ]
  },
  {
   "cell_type": "code",
   "execution_count": 23,
   "id": "78831d5e-70ca-4f6f-b3d7-c67fa0173b7e",
   "metadata": {},
   "outputs": [
    {
     "name": "stdout",
     "output_type": "stream",
     "text": [
      "1 * 1 = 1\n",
      "1 * 2 = 2\n",
      "1 * 3 = 3\n",
      "1 * 4 = 4\n",
      "1 * 5 = 5\n",
      "2 * 1 = 2\n",
      "2 * 2 = 4\n",
      "2 * 3 = 6\n",
      "2 * 4 = 8\n",
      "2 * 5 = 10\n",
      "3 * 1 = 3\n",
      "3 * 2 = 6\n",
      "3 * 3 = 9\n",
      "3 * 4 = 12\n",
      "3 * 5 = 15\n",
      "4 * 1 = 4\n",
      "4 * 2 = 8\n",
      "4 * 3 = 12\n",
      "4 * 4 = 16\n",
      "4 * 5 = 20\n",
      "5 * 1 = 5\n",
      "5 * 2 = 10\n",
      "5 * 3 = 15\n",
      "5 * 4 = 20\n",
      "5 * 5 = 25\n"
     ]
    }
   ],
   "source": [
    "for one in x:\n",
    "    for two in y:\n",
    "        print(one, '*', two, '=', one*two)"
   ]
  },
  {
   "cell_type": "code",
   "execution_count": null,
   "id": "caba4adb-1295-4ccb-b68d-fc761039fdaa",
   "metadata": {},
   "outputs": [],
   "source": []
  }
 ],
 "metadata": {
  "kernelspec": {
   "display_name": "Python 3 (ipykernel)",
   "language": "python",
   "name": "python3"
  },
  "language_info": {
   "codemirror_mode": {
    "name": "ipython",
    "version": 3
   },
   "file_extension": ".py",
   "mimetype": "text/x-python",
   "name": "python",
   "nbconvert_exporter": "python",
   "pygments_lexer": "ipython3",
   "version": "3.11.7"
  }
 },
 "nbformat": 4,
 "nbformat_minor": 5
}
